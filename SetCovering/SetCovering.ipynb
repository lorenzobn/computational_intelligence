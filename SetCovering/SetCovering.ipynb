{
 "cells": [
  {
   "cell_type": "code",
   "execution_count": 25,
   "metadata": {
    "id": "Vm0VLIuSPTAN"
   },
   "outputs": [],
   "source": [
    "# Set covering problem: you need to select a certain number of blocks in order to cover all the initial sets\n",
    "# Example: find the minimum number of items that together guarantee to cover something\n",
    "# Definitions\n",
    "\n",
    "# STATE = contains all the relevant informations to represent the current situation"
   ]
  },
  {
   "cell_type": "code",
   "execution_count": 26,
   "metadata": {
    "id": "46muzvQ2rwWv"
   },
   "outputs": [],
   "source": [
    "from random import random\n",
    "import numpy as np\n",
    "from functools import reduce\n",
    "from collections import namedtuple\n",
    "from queue import PriorityQueue, SimpleQueue, LifoQueue\n",
    "from math import ceil"
   ]
  },
  {
   "cell_type": "code",
   "execution_count": 27,
   "metadata": {
    "id": "NbBWpuLir5ic"
   },
   "outputs": [],
   "source": [
    "PROBLEM_SIZE = 5\n",
    "NUM_SETS = 10"
   ]
  },
  {
   "cell_type": "code",
   "execution_count": 28,
   "metadata": {
    "id": "FWNfuHjDsQFx"
   },
   "outputs": [
    {
     "data": {
      "text/plain": [
       "'\\nPROBLEM_SIZE = 3\\nNUM_SETS = 5\\nsets = ([False, False, False],\\n       [False, False, True],\\n       [False, False, False],\\n       [True, False, False],\\n       [True, False, True])\\n'"
      ]
     },
     "execution_count": 28,
     "metadata": {},
     "output_type": "execute_result"
    }
   ],
   "source": [
    "sets = tuple(np.array([random() < .2 for _ in range(PROBLEM_SIZE)]) for _ in range(NUM_SETS))\n",
    "State = namedtuple('State', ['taken', 'not_taken'])\n",
    "\n",
    "\"\"\"\n",
    "PROBLEM_SIZE = 3\n",
    "NUM_SETS = 5\n",
    "sets = ([False, False, False],\n",
    "       [False, False, True],\n",
    "       [False, False, False],\n",
    "       [True, False, False],\n",
    "       [True, False, True])\n",
    "\"\"\""
   ]
  },
  {
   "cell_type": "code",
   "execution_count": 29,
   "metadata": {
    "id": "4d19_RQOYYC0"
   },
   "outputs": [],
   "source": [
    "def goal_check(state):\n",
    "  #np.all = checks whether all elements are TRUE\n",
    "  #reduce = applies the logical or to all elements of the specified iterable\n",
    "  return np.all(reduce(np.logical_or, [sets[i] for i in state.taken], np.array([False for _ in range(PROBLEM_SIZE)])))"
   ]
  },
  {
   "cell_type": "code",
   "execution_count": 30,
   "metadata": {
    "colab": {
     "base_uri": "https://localhost:8080/"
    },
    "id": "7nosG5cQwJoQ",
    "outputId": "70689d35-b262-4eb2-f869-669b35d9c776"
   },
   "outputs": [
    {
     "name": "stderr",
     "output_type": "stream",
     "text": [
      "<>:1: SyntaxWarning: assertion is always true, perhaps remove parentheses?\n",
      "<>:1: SyntaxWarning: assertion is always true, perhaps remove parentheses?\n",
      "<>:1: SyntaxWarning: assertion is always true, perhaps remove parentheses?\n",
      "C:\\Users\\Lorenzo\\AppData\\Local\\Temp/ipykernel_18192/987543073.py:1: SyntaxWarning: assertion is always true, perhaps remove parentheses?\n",
      "  assert(goal_check(State(set(range(NUM_SETS)), set())), \"Problem not solvable\")\n"
     ]
    }
   ],
   "source": [
    "assert(goal_check(State(set(range(NUM_SETS)), set())), \"Problem not solvable\")"
   ]
  },
  {
   "cell_type": "code",
   "execution_count": 31,
   "metadata": {
    "id": "mi5qdi5tzVe-"
   },
   "outputs": [],
   "source": [
    "from collections import namedtuple\n",
    "State = namedtuple('State', ['taken', 'not_taken'])"
   ]
  },
  {
   "cell_type": "code",
   "execution_count": 32,
   "metadata": {},
   "outputs": [
    {
     "name": "stdout",
     "output_type": "stream",
     "text": [
      "PRINTING SETS:\n",
      "0) [False  True False False False]\n",
      "1) [False False False False  True]\n",
      "2) [False False False  True False]\n",
      "3) [False  True  True  True False]\n",
      "4) [False False False False False]\n",
      "5) [ True False False False  True]\n",
      "6) [False  True False  True  True]\n",
      "7) [False False False False False]\n",
      "8) [False False  True False False]\n",
      "9) [ True  True False False False]\n",
      "-------------------------\n",
      "Putting 3 with action State(taken={0}, not_taken={1, 2, 3, 4, 5, 6, 7, 8, 9})\n",
      "Putting 3 with action State(taken={1}, not_taken={0, 2, 3, 4, 5, 6, 7, 8, 9})\n",
      "Putting 3 with action State(taken={2}, not_taken={0, 1, 3, 4, 5, 6, 7, 8, 9})\n",
      "Putting 2 with action State(taken={3}, not_taken={0, 1, 2, 4, 5, 6, 7, 8, 9})\n",
      "Putting 3 with action State(taken={4}, not_taken={0, 1, 2, 3, 5, 6, 7, 8, 9})\n",
      "Putting 2 with action State(taken={5}, not_taken={0, 1, 2, 3, 4, 6, 7, 8, 9})\n",
      "Putting 2 with action State(taken={6}, not_taken={0, 1, 2, 3, 4, 5, 7, 8, 9})\n",
      "Putting 3 with action State(taken={7}, not_taken={0, 1, 2, 3, 4, 5, 6, 8, 9})\n",
      "Putting 3 with action State(taken={8}, not_taken={0, 1, 2, 3, 4, 5, 6, 7, 9})\n",
      "Putting 2 with action State(taken={9}, not_taken={0, 1, 2, 3, 4, 5, 6, 7, 8})\n",
      "Putting 3 with action State(taken={0, 3}, not_taken={1, 2, 4, 5, 6, 7, 8, 9})\n",
      "Putting 3 with action State(taken={1, 3}, not_taken={0, 2, 4, 5, 6, 7, 8, 9})\n",
      "Putting 3 with action State(taken={2, 3}, not_taken={0, 1, 4, 5, 6, 7, 8, 9})\n",
      "Putting 3 with action State(taken={3, 4}, not_taken={0, 1, 2, 5, 6, 7, 8, 9})\n",
      "Putting 2 with action State(taken={3, 5}, not_taken={0, 1, 2, 4, 6, 7, 8, 9})\n",
      "Putting 3 with action State(taken={3, 6}, not_taken={0, 1, 2, 4, 5, 7, 8, 9})\n",
      "Putting 3 with action State(taken={3, 7}, not_taken={0, 1, 2, 4, 5, 6, 8, 9})\n",
      "Putting 3 with action State(taken={8, 3}, not_taken={0, 1, 2, 4, 5, 6, 7, 9})\n",
      "Putting 3 with action State(taken={9, 3}, not_taken={0, 1, 2, 4, 5, 6, 7, 8})\n",
      "Putting 3 with action State(taken={0, 5}, not_taken={1, 2, 3, 4, 6, 7, 8, 9})\n",
      "Putting 3 with action State(taken={1, 5}, not_taken={0, 2, 3, 4, 6, 7, 8, 9})\n",
      "Putting 3 with action State(taken={2, 5}, not_taken={0, 1, 3, 4, 6, 7, 8, 9})\n",
      "Putting 2 with action State(taken={3, 5}, not_taken={0, 1, 2, 4, 6, 7, 8, 9})\n",
      "Putting 3 with action State(taken={4, 5}, not_taken={0, 1, 2, 3, 6, 7, 8, 9})\n",
      "Putting 3 with action State(taken={5, 6}, not_taken={0, 1, 2, 3, 4, 7, 8, 9})\n",
      "Putting 3 with action State(taken={5, 7}, not_taken={0, 1, 2, 3, 4, 6, 8, 9})\n",
      "Putting 3 with action State(taken={8, 5}, not_taken={0, 1, 2, 3, 4, 6, 7, 9})\n",
      "Putting 3 with action State(taken={9, 5}, not_taken={0, 1, 2, 3, 4, 6, 7, 8})\n",
      "Putting 3 with action State(taken={0, 6}, not_taken={1, 2, 3, 4, 5, 7, 8, 9})\n",
      "Putting 3 with action State(taken={1, 6}, not_taken={0, 2, 3, 4, 5, 7, 8, 9})\n",
      "Putting 3 with action State(taken={2, 6}, not_taken={0, 1, 3, 4, 5, 7, 8, 9})\n",
      "Putting 3 with action State(taken={3, 6}, not_taken={0, 1, 2, 4, 5, 7, 8, 9})\n",
      "Putting 3 with action State(taken={4, 6}, not_taken={0, 1, 2, 3, 5, 7, 8, 9})\n",
      "Putting 3 with action State(taken={5, 6}, not_taken={0, 1, 2, 3, 4, 7, 8, 9})\n",
      "Putting 3 with action State(taken={6, 7}, not_taken={0, 1, 2, 3, 4, 5, 8, 9})\n",
      "Putting 3 with action State(taken={8, 6}, not_taken={0, 1, 2, 3, 4, 5, 7, 9})\n",
      "Putting 3 with action State(taken={9, 6}, not_taken={0, 1, 2, 3, 4, 5, 7, 8})\n",
      "Solved in 4 steps (2 tiles. Sets used to cover {3, 5})\n"
     ]
    }
   ],
   "source": [
    "# A* algorithm implementation\n",
    "\n",
    "def is_problem_solvable(sets):\n",
    "    # this function checks that each individual point is covered by at least one set\n",
    "    row = False\n",
    "    for j in range(0, PROBLEM_SIZE):\n",
    "        for i in range(0, NUM_SETS):\n",
    "            row |= sets[i][j]\n",
    "        if row == False:\n",
    "            return False\n",
    "        else:\n",
    "            row = False\n",
    "    return True\n",
    "\n",
    "def goal_check(state):\n",
    "    # This is a binary output: did we reach a solution? True of False\n",
    "    return np.all(reduce(\n",
    "        np.logical_or,\n",
    "        [sets[i] for i in state.taken],\n",
    "        np.array([False for _ in range(PROBLEM_SIZE)]),\n",
    "    ))\n",
    "\n",
    "def count_covered(state):\n",
    "    return reduce(\n",
    "        np.logical_or,\n",
    "        [sets[i] for i in state.taken],\n",
    "        np.array([False for _ in range(PROBLEM_SIZE)]),\n",
    "    )\n",
    "\n",
    "def h(state):\n",
    "    # optimistic heuristic: let's count the points we are missing to cover over\n",
    "    # the largest set (where largest means the set with the greatest amount of trues) \n",
    "    missing_points = PROBLEM_SIZE - sum(count_covered(state))\n",
    "    largest_set = np.max(np.array(sets).sum(axis=1))\n",
    "    # That is: how many sets are needed (optimistically) to cover the universe?\n",
    "    return ceil(missing_points/largest_set)\n",
    "\n",
    "def h2(state):\n",
    "    pass\n",
    "\n",
    "def g(state):\n",
    "    return len(state.taken)\n",
    "\n",
    "def f(state):\n",
    "    return g(state) + h(state)\n",
    "\n",
    "def print_sets():\n",
    "  print(\"PRINTING SETS:\")\n",
    "  for s in range(0,NUM_SETS):\n",
    "    print(f\"{s}) {sets[s]}\")\n",
    "  print(\"-\"*25)\n",
    "\n",
    "print_sets()\n",
    "if(not is_problem_solvable(sets)):\n",
    "  print(\"[!] This configuration of the problem is not solvable! Some point is not covered by any set.\")\n",
    "else: \n",
    "    frontier = PriorityQueue()\n",
    "    state = State(set(), set(range(NUM_SETS)))\n",
    "    frontier.put((f(state), state))\n",
    "\n",
    "    counter = 0\n",
    "    _, current_state = frontier.get()\n",
    "    while not goal_check(current_state):\n",
    "        counter += 1\n",
    "        for action in current_state[1]:\n",
    "            new_state = State(\n",
    "                current_state.taken ^ {action},\n",
    "                current_state.not_taken ^ {action},\n",
    "            )\n",
    "            print(f\"Putting {f(new_state)} with action {new_state}\")\n",
    "            frontier.put((f(new_state), new_state))\n",
    "        _, current_state = frontier.get()\n",
    "    print(\n",
    "        f\"Solved in {counter:,} steps ({len(current_state.taken)} tiles. Sets used to cover {current_state.taken})\"\n",
    "    )"
   ]
  },
  {
   "cell_type": "code",
   "execution_count": null,
   "metadata": {},
   "outputs": [],
   "source": []
  }
 ],
 "metadata": {
  "colab": {
   "provenance": []
  },
  "kernelspec": {
   "display_name": "Python 3 (ipykernel)",
   "language": "python",
   "name": "python3"
  },
  "language_info": {
   "codemirror_mode": {
    "name": "ipython",
    "version": 3
   },
   "file_extension": ".py",
   "mimetype": "text/x-python",
   "name": "python",
   "nbconvert_exporter": "python",
   "pygments_lexer": "ipython3",
   "version": "3.7.11"
  }
 },
 "nbformat": 4,
 "nbformat_minor": 1
}
