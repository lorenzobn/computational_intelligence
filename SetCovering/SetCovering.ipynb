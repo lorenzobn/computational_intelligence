{
 "cells": [
  {
   "cell_type": "code",
   "execution_count": 1,
   "metadata": {
    "id": "Vm0VLIuSPTAN"
   },
   "outputs": [],
   "source": [
    "# Set covering problem: you need to select a certain number of blocks in order to cover all the initial sets\n",
    "# Example: find the minimum number of items that together guarantee to cover something\n",
    "# Definitions\n",
    "\n",
    "# STATE = contains all the relevant informations to represent the current situation"
   ]
  },
  {
   "cell_type": "markdown",
   "metadata": {},
   "source": [
    "Tile = set of points ==> it is PROBLEM_SIZE\n",
    "\n",
    "The problem is to maximize the number of not_taken or otherwise minimize the number of taken.\n",
    "In other words, covering all points at least once with the least number of tiles possible"
   ]
  },
  {
   "cell_type": "code",
   "execution_count": 2,
   "metadata": {
    "id": "46muzvQ2rwWv"
   },
   "outputs": [],
   "source": [
    "from random import random\n",
    "import numpy as np\n",
    "from functools import reduce\n",
    "from collections import namedtuple\n",
    "from queue import PriorityQueue, SimpleQueue, LifoQueue"
   ]
  },
  {
   "cell_type": "code",
   "execution_count": 3,
   "metadata": {
    "id": "NbBWpuLir5ic"
   },
   "outputs": [],
   "source": [
    "PROBLEM_SIZE = 5\n",
    "NUM_SETS = 10"
   ]
  },
  {
   "cell_type": "code",
   "execution_count": 4,
   "metadata": {
    "id": "FWNfuHjDsQFx"
   },
   "outputs": [],
   "source": [
    "from typing import Sequence\n",
    "sets = tuple(np.array([random() < .2 for _ in range(PROBLEM_SIZE)]) for _ in range(NUM_SETS))\n",
    "State = namedtuple('State', ['taken', 'not_taken'])\n",
    "\n",
    "PROBLEM_SIZE = 3\n",
    "NUM_SETS = 5\n",
    "sets = ([False, False, False],\n",
    "       [False, False, True],\n",
    "       [False, True, False],\n",
    "       [True, False, False],\n",
    "       [True, True, True])"
   ]
  },
  {
   "cell_type": "code",
   "execution_count": 5,
   "metadata": {
    "id": "4d19_RQOYYC0"
   },
   "outputs": [],
   "source": [
    "def goal_check(state):\n",
    "  #np.all = checks whether all elements are TRUE\n",
    "  #reduce = applies the logical or to all elements of the specified iterable\n",
    "  return np.all(reduce(np.logical_or, [sets[i] for i in state.taken], np.array([False for _ in range(PROBLEM_SIZE)])))"
   ]
  },
  {
   "cell_type": "code",
   "execution_count": 6,
   "metadata": {
    "colab": {
     "base_uri": "https://localhost:8080/"
    },
    "id": "7nosG5cQwJoQ",
    "outputId": "70689d35-b262-4eb2-f869-669b35d9c776"
   },
   "outputs": [
    {
     "name": "stderr",
     "output_type": "stream",
     "text": [
      "<>:1: SyntaxWarning: assertion is always true, perhaps remove parentheses?\n",
      "<>:1: SyntaxWarning: assertion is always true, perhaps remove parentheses?\n",
      "<>:1: SyntaxWarning: assertion is always true, perhaps remove parentheses?\n",
      "C:\\Users\\Lorenzo\\AppData\\Local\\Temp/ipykernel_14048/987543073.py:1: SyntaxWarning: assertion is always true, perhaps remove parentheses?\n",
      "  assert(goal_check(State(set(range(NUM_SETS)), set())), \"Problem not solvable\")\n"
     ]
    }
   ],
   "source": [
    "assert(goal_check(State(set(range(NUM_SETS)), set())), \"Problem not solvable\")"
   ]
  },
  {
   "cell_type": "code",
   "execution_count": 7,
   "metadata": {
    "id": "mi5qdi5tzVe-"
   },
   "outputs": [],
   "source": [
    "from collections import namedtuple\n",
    "State = namedtuple('State', ['taken', 'not_taken'])"
   ]
  },
  {
   "cell_type": "code",
   "execution_count": 8,
   "metadata": {},
   "outputs": [
    {
     "name": "stdout",
     "output_type": "stream",
     "text": [
      "PRINTING SETS:\n",
      "0) [False, False, False]\n",
      "1) [False, False, True]\n",
      "2) [False, True, False]\n",
      "3) [True, False, False]\n",
      "4) [True, True, True]\n",
      "-------------------------\n",
      "Putting 4 with action State(taken={0}, not_taken={1, 2, 3, 4})\n",
      "Putting 3 with action State(taken={1}, not_taken={0, 2, 3, 4})\n",
      "Putting 3 with action State(taken={2}, not_taken={0, 1, 3, 4})\n",
      "Putting 3 with action State(taken={3}, not_taken={0, 1, 2, 4})\n",
      "Putting 1 with action State(taken={4}, not_taken={0, 1, 2, 3})\n",
      "Solved in 1 steps (1 tiles. Sets used to cover {4})\n",
      "PRINTING SETS:\n",
      "0) [False, False, False]\n",
      "1) [False, False, True]\n",
      "2) [False, True, False]\n",
      "3) [True, False, False]\n",
      "4) [True, True, True]\n",
      "-------------------------\n"
     ]
    }
   ],
   "source": [
    "# A* algorithm implementation\n",
    "\n",
    "def goal_check(state):\n",
    "    # This is a binary output: did we reach a solution? True of False\n",
    "    return np.all(reduce(\n",
    "        np.logical_or,\n",
    "        [sets[i] for i in state.taken],\n",
    "        np.array([False for _ in range(PROBLEM_SIZE)]),\n",
    "    ))\n",
    "\n",
    "\n",
    "def h(state):\n",
    "    # This is a numeric output that counts the amount of TRUEs in the given state. \n",
    "    # TRUE means \"I am covering that individual point\"\n",
    "    # Since the PriorityQueue is ordered in reverse, we do PROBLEM_SIZE - [...]\n",
    "    return PROBLEM_SIZE - sum(\n",
    "        reduce(\n",
    "            np.logical_or,\n",
    "            [sets[i] for i in state.taken],\n",
    "            np.array([False for _ in range(PROBLEM_SIZE)]),\n",
    "        ))\n",
    "\n",
    "def g(state):\n",
    "    return len(state.taken)\n",
    "\n",
    "def f(state):\n",
    "    return g(state) + h(state)\n",
    "\n",
    "def print_sets():\n",
    "  print(\"PRINTING SETS:\")\n",
    "  for s in range(0,NUM_SETS):\n",
    "    print(f\"{s}) {sets[s]}\")\n",
    "  print(\"-\"*25)\n",
    "\n",
    "print_sets()\n",
    "frontier = PriorityQueue()\n",
    "state = State(set(), set(range(NUM_SETS)))\n",
    "frontier.put((f(state), state))\n",
    "\n",
    "counter = 0\n",
    "_, current_state = frontier.get()\n",
    "while not goal_check(current_state):\n",
    "    counter += 1\n",
    "    for action in current_state[1]:\n",
    "        new_state = State(\n",
    "            current_state.taken ^ {action},\n",
    "            current_state.not_taken ^ {action},\n",
    "        )\n",
    "        print(f\"Putting {f(new_state)} with action {new_state}\")\n",
    "        frontier.put((f(new_state), new_state))\n",
    "    _, current_state = frontier.get()\n",
    "\n",
    "\n",
    "print(\n",
    "    f\"Solved in {counter:,} steps ({len(current_state.taken)} tiles. Sets used to cover {current_state.taken})\"\n",
    ")\n",
    "\n",
    "print_sets()"
   ]
  }
 ],
 "metadata": {
  "colab": {
   "provenance": []
  },
  "kernelspec": {
   "display_name": "Python 3 (ipykernel)",
   "language": "python",
   "name": "python3"
  },
  "language_info": {
   "codemirror_mode": {
    "name": "ipython",
    "version": 3
   },
   "file_extension": ".py",
   "mimetype": "text/x-python",
   "name": "python",
   "nbconvert_exporter": "python",
   "pygments_lexer": "ipython3",
   "version": "3.7.11"
  }
 },
 "nbformat": 4,
 "nbformat_minor": 1
}
