{
 "cells": [
  {
   "cell_type": "code",
   "execution_count": 1,
   "metadata": {
    "id": "Vm0VLIuSPTAN"
   },
   "outputs": [],
   "source": [
    "#Set covering problem: you need to select a certain number of blocks in order to cover all the initial sets\n",
    "#Example: find the minimum number of items that together guarantee to cover something\n",
    "#Definitions\n",
    "\n",
    "#STATE = contains all the relevant informations to represent the current situation"
   ]
  },
  {
   "cell_type": "markdown",
   "metadata": {},
   "source": [
    "Tile = set of points ==> it is PROBLEM_SIZE\n",
    "\n",
    "The problem is to maximize the number of not_taken or otherwise minimize the number of taken.\n",
    "In other words, covering all points at least once with the least number of tiles possible"
   ]
  },
  {
   "cell_type": "code",
   "execution_count": 2,
   "metadata": {
    "id": "46muzvQ2rwWv"
   },
   "outputs": [],
   "source": [
    "from random import random\n",
    "import numpy as np\n",
    "from functools import reduce\n",
    "from collections import namedtuple\n",
    "from queue import PriorityQueue, SimpleQueue, LifoQueue"
   ]
  },
  {
   "cell_type": "code",
   "execution_count": 3,
   "metadata": {
    "id": "NbBWpuLir5ic"
   },
   "outputs": [],
   "source": [
    "PROBLEM_SIZE = 5\n",
    "NUM_SETS = 10"
   ]
  },
  {
   "cell_type": "code",
   "execution_count": 4,
   "metadata": {
    "id": "FWNfuHjDsQFx"
   },
   "outputs": [],
   "source": [
    "from typing import Sequence\n",
    "sets = tuple(np.array([random() < .2 for _ in range(PROBLEM_SIZE)]) for _ in range(NUM_SETS))\n",
    "State = namedtuple('State', ['taken', 'not_taken'])"
   ]
  },
  {
   "cell_type": "code",
   "execution_count": 5,
   "metadata": {
    "id": "9o9glXPPtJPd"
   },
   "outputs": [],
   "source": [
    "#here, one set of the state represents the number of points we took and the other the ones that we did not took -> ({TAKEN}, {NOT_TAKEN})\n",
    "#state = ({1,3,5}, {0,2,4,6,7})"
   ]
  },
  {
   "cell_type": "code",
   "execution_count": 6,
   "metadata": {
    "id": "4d19_RQOYYC0"
   },
   "outputs": [],
   "source": [
    "def goal_check(state):\n",
    "  #np.all = checks whether all elements are TRUE\n",
    "  #reduce = applies the logical or to all elements of the specified iterable\n",
    "  return np.all(reduce(np.logical_or, [sets[i] for i in state.taken], np.array([False for _ in range(PROBLEM_SIZE)])))"
   ]
  },
  {
   "cell_type": "code",
   "execution_count": 7,
   "metadata": {
    "colab": {
     "base_uri": "https://localhost:8080/"
    },
    "id": "7nosG5cQwJoQ",
    "outputId": "70689d35-b262-4eb2-f869-669b35d9c776"
   },
   "outputs": [
    {
     "name": "stderr",
     "output_type": "stream",
     "text": [
      "<>:1: SyntaxWarning: assertion is always true, perhaps remove parentheses?\n",
      "<>:1: SyntaxWarning: assertion is always true, perhaps remove parentheses?\n",
      "<>:1: SyntaxWarning: assertion is always true, perhaps remove parentheses?\n",
      "C:\\Users\\Lorenzo\\AppData\\Local\\Temp/ipykernel_4592/987543073.py:1: SyntaxWarning: assertion is always true, perhaps remove parentheses?\n",
      "  assert(goal_check(State(set(range(NUM_SETS)), set())), \"Problem not solvable\")\n"
     ]
    }
   ],
   "source": [
    "assert(goal_check(State(set(range(NUM_SETS)), set())), \"Problem not solvable\")"
   ]
  },
  {
   "cell_type": "code",
   "execution_count": 8,
   "metadata": {
    "id": "mi5qdi5tzVe-"
   },
   "outputs": [],
   "source": [
    "from collections import namedtuple\n",
    "State = namedtuple('State', ['taken', 'not_taken'])"
   ]
  },
  {
   "cell_type": "code",
   "execution_count": null,
   "metadata": {
    "colab": {
     "base_uri": "https://localhost:8080/"
    },
    "id": "EtUs3SGEXErQ",
    "outputId": "54e5a383-2c91-47b6-88e3-26e6d14f3d57"
   },
   "outputs": [],
   "source": [
    "#MY TAKE ON THIS\n",
    "\n",
    "frontier = PriorityQueue()\n",
    "#sort the set of not_taken by the number of true elements they contain\n",
    "frontier.put((PROBLEM_SIZE - sum(sets[0]), State(set(), set(range(NUM_SETS)))))\n",
    "\n",
    "def goal_check_new(state):\n",
    "    return np.all(reduce(np.logical_or, [sets[i] for i in state[1].taken], np.array([False for _ in range(PROBLEM_SIZE)]))) #???\n",
    "\n",
    "def cost(action):\n",
    "  return PROBLEM_SIZE - sum(sets[action])\n",
    "\n",
    "  #np.all = checks whether all elements are TRUE\n",
    "  #reduce = applies the logical or to all elements of the specified iterable\n",
    "\n",
    "counter = 0\n",
    "current_state = frontier.get()\n",
    "while not goal_check_new(current_state):\n",
    "    counter += 1\n",
    "    for action in current_state[1][1]:\n",
    "        # Add the taken action to the set of taken actions, and remove that action from the not taken\n",
    "        new_state = State(current_state[1].taken | {action}, current_state[1].not_taken - {action})\n",
    "        print(\"{}) new_state : {}\".format(counter, new_state))\n",
    "        frontier.put((cost(action), new_state))\n",
    "    current_state = frontier.get()\n",
    "    print(\"{}) Current state now is: {}\".format(counter, current_state))\n",
    "\n",
    "print(f\"Solved in {counter:,} steps\")"
   ]
  },
  {
   "cell_type": "code",
   "execution_count": 9,
   "metadata": {},
   "outputs": [
    {
     "name": "stdout",
     "output_type": "stream",
     "text": [
      "Solved in 2 steps (2 tiles. Sets covered {0, 1})\n"
     ]
    }
   ],
   "source": [
    "#PROFESSOR'S TAKE ON THIS\n",
    "\n",
    "def goal_check(state):\n",
    "    # This is a binary output: did we reach a solution? True of False\n",
    "    return np.all(reduce(\n",
    "        np.logical_or,\n",
    "        [sets[i] for i in state.taken],\n",
    "        np.array([False for _ in range(PROBLEM_SIZE)]),\n",
    "    ))\n",
    "\n",
    "\n",
    "def distance(state):\n",
    "    # This is a numeric output that counts the amount of TRUEs in the given state. \n",
    "    # TRUE means \"I am covering that individual point\"\n",
    "    # Since the PriorityQueue is ordered in reverse, we do PROBLEM_SIZE - [...]\n",
    "    return PROBLEM_SIZE - sum(\n",
    "        reduce(\n",
    "            np.logical_or,\n",
    "            [sets[i] for i in state.taken],\n",
    "            np.array([False for _ in range(PROBLEM_SIZE)]),\n",
    "        ))\n",
    "\n",
    "\n",
    "frontier = PriorityQueue()\n",
    "#frontier = SimpleQueue()\n",
    "state = State(set(), set(range(NUM_SETS)))\n",
    "frontier.put((distance(state), state))\n",
    "\n",
    "counter = 0\n",
    "_, current_state = frontier.get()\n",
    "while not goal_check(current_state):\n",
    "    counter += 1\n",
    "    for action in current_state[1]:\n",
    "        new_state = State(\n",
    "            current_state.taken ^ {action},\n",
    "            current_state.not_taken ^ {action},\n",
    "        )\n",
    "        frontier.put((distance(new_state), new_state))\n",
    "    _, current_state = frontier.get()\n",
    "\n",
    "print(\n",
    "    f\"Solved in {counter:,} steps ({len(current_state.taken)} tiles. Sets used to cover {current_state.taken})\"\n",
    ")"
   ]
  },
  {
   "cell_type": "code",
   "execution_count": null,
   "metadata": {},
   "outputs": [],
   "source": [
    "# Solution using A* algorithm\n",
    "def heuristic():\n",
    "    pass\n",
    "\n",
    "def cost():\n",
    "    pass\n",
    "\n",
    "def f(n):\n",
    "    return cost(n) + heuristic(n)"
   ]
  }
 ],
 "metadata": {
  "colab": {
   "provenance": []
  },
  "kernelspec": {
   "display_name": "Python 3 (ipykernel)",
   "language": "python",
   "name": "python3"
  },
  "language_info": {
   "codemirror_mode": {
    "name": "ipython",
    "version": 3
   },
   "file_extension": ".py",
   "mimetype": "text/x-python",
   "name": "python",
   "nbconvert_exporter": "python",
   "pygments_lexer": "ipython3",
   "version": "3.7.11"
  }
 },
 "nbformat": 4,
 "nbformat_minor": 1
}
