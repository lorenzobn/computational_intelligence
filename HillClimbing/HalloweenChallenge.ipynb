{
 "cells": [
  {
   "cell_type": "code",
   "execution_count": 53,
   "metadata": {},
   "outputs": [],
   "source": [
    "from itertools import product\n",
    "from random import random, randint, shuffle, seed, choice, getrandbits\n",
    "import numpy as np\n",
    "from scipy import sparse\n",
    "from collections import namedtuple\n",
    "from functools import reduce\n",
    "from copy import copy\n",
    "import time"
   ]
  },
  {
   "cell_type": "code",
   "execution_count": 54,
   "metadata": {},
   "outputs": [],
   "source": [
    "def make_set_covering_problem(num_points, num_sets, density):\n",
    "    \"\"\"Returns a sparse array where rows are sets and columns are the covered items\"\"\"\n",
    "    seed(num_points*2654435761+num_sets+density)\n",
    "    sets = sparse.lil_array((num_sets, num_points), dtype=bool)\n",
    "    for s, p in product(range(num_sets), range(num_points)):\n",
    "        if random() < density:\n",
    "            sets[s, p] = True\n",
    "    for p in range(num_points):\n",
    "        sets[randint(0, num_sets-1), p] = True\n",
    "    return sets"
   ]
  },
  {
   "cell_type": "markdown",
   "metadata": {},
   "source": [
    "\n",
    "# Halloween Challenge\n",
    "\n",
    "Find the best solution with the fewest calls to the fitness functions for:\n",
    "\n",
    "- `num_points = [100, 1_000, 5_000]`\n",
    "- `num_sets = num_points `\n",
    "- `density = [.3, .7] `\n",
    "\n",
    "\n",
    "*Problem: * Number of evaluations / Best fitness\n",
    "\n"
   ]
  },
  {
   "cell_type": "code",
   "execution_count": 55,
   "metadata": {},
   "outputs": [
    {
     "name": "stdout",
     "output_type": "stream",
     "text": [
      "Element at row=42 and column=42: False\n"
     ]
    }
   ],
   "source": [
    "x = make_set_covering_problem(1000, 1000, .3)\n",
    "print(\"Element at row=42 and column=42:\", x[42, 42])"
   ]
  },
  {
   "cell_type": "code",
   "execution_count": 56,
   "metadata": {},
   "outputs": [
    {
     "name": "stdout",
     "output_type": "stream",
     "text": [
      "True\n"
     ]
    },
    {
     "name": "stderr",
     "output_type": "stream",
     "text": [
      "<>:29: SyntaxWarning: assertion is always true, perhaps remove parentheses?\n",
      "<>:29: SyntaxWarning: assertion is always true, perhaps remove parentheses?\n",
      "C:\\Users\\Lorenzo\\AppData\\Local\\Temp\\ipykernel_16112\\2816762034.py:29: SyntaxWarning: assertion is always true, perhaps remove parentheses?\n",
      "  assert(goal_check(sets, State(set(range(NUM_SETS)), set())), \"Problem not solvable\")\n"
     ]
    }
   ],
   "source": [
    "NUM_POINTS = 10\n",
    "NUM_SETS = 10\n",
    "density = .2\n",
    "\n",
    "sets = make_set_covering_problem(NUM_POINTS, NUM_SETS, density)\n",
    "State = namedtuple('State', ['taken', 'not_taken'])\n",
    "#utils functions\n",
    "def is_solvable(problem_instance):\n",
    "    return np.all(problem_instance.sum(axis=0))\n",
    "\n",
    "\"\"\"\n",
    "def using_nonzero_iteration(x):\n",
    "    rows,cols = x.nonzero()\n",
    "    for row,col in zip(rows,cols):\n",
    "        print((row,col), x[row,col])\n",
    "\"\"\"\n",
    "\n",
    "def goal_check(sets, state):\n",
    "    covered_points = [False] * (len(state.taken) + len(state.not_taken))\n",
    "    rows,cols = sets.nonzero()\n",
    "    for row,col in zip(rows,cols):\n",
    "        #print((row,col), sets[row,col])\n",
    "        if row in state.taken:\n",
    "            covered_points[col] = True\n",
    "    return np.all(covered_points)\n",
    "    \n",
    "\n",
    "print(is_solvable(sets))\n",
    "assert(goal_check(sets, State(set(range(NUM_SETS)), set())), \"Problem not solvable\")"
   ]
  },
  {
   "cell_type": "code",
   "execution_count": 57,
   "metadata": {},
   "outputs": [
    {
     "name": "stdout",
     "output_type": "stream",
     "text": [
      "State(taken={36}, not_taken={0, 1, 2, 3, 4, 5, 6, 7, 8, 9, 10, 11, 12, 13, 14, 15, 16, 17, 18, 19, 20, 21, 22, 23, 24, 25, 26, 27, 28, 29, 30, 31, 32, 33, 34, 35, 37, 38, 39, 40, 41, 42, 43, 44, 45, 46, 47, 48, 49, 50, 51, 52, 53, 54, 55, 56, 57, 58, 59, 60, 61, 62, 63, 64, 65, 66, 67, 68, 69, 70, 71, 72, 73, 74, 75, 76, 77, 78, 79, 80, 81, 82, 83, 84, 85, 86, 87, 88, 89, 90, 91, 92, 93, 94, 95, 96, 97, 98, 99})\n"
     ]
    }
   ],
   "source": [
    "NUM_POINTS = 100\n",
    "NUM_SETS = 100\n",
    "density = .7\n",
    "\n",
    "sets = make_set_covering_problem(NUM_POINTS, NUM_SETS, density)\n",
    "State = namedtuple('State', ['taken', 'not_taken'])\n",
    "\n",
    "def quality(state):\n",
    "    #this counts, right now, the number of covered points\n",
    "    covered_points = [False] * NUM_POINTS\n",
    "    rows,cols = sets.nonzero()\n",
    "    for row,col in zip(rows,cols):\n",
    "        #print((row,col), sets[row,col])\n",
    "        if row in state.taken:\n",
    "            covered_points[col] = True\n",
    "    return np.array(covered_points).sum()\n",
    "\n",
    "def tweak(state): # In case of ES I should use a Normal/guassian distribution for introducing variability. Larger sigma leads to more exploration.\n",
    "    #this function triggers a small random change in the current state\n",
    "    # IN: state\n",
    "    # OUT: tweaked(state) with random change\n",
    "    seed(time.time())\n",
    "    c = choice(list(state.not_taken))\n",
    "    return State(\n",
    "                state.taken ^ {c},\n",
    "                state.not_taken ^ {c},\n",
    "            )\n",
    "\n",
    "state = State(set(), set(range(NUM_SETS)))\n",
    "assert(quality(state)) == 0\n",
    "tweaked = tweak(state)\n",
    "print(tweaked)"
   ]
  },
  {
   "cell_type": "code",
   "execution_count": 58,
   "metadata": {},
   "outputs": [],
   "source": [
    "EVALUATIONS = 2*NUM_SETS\n",
    "\n",
    "def generate_state():\n",
    "    taken = set()\n",
    "    not_taken = set(range(NUM_SETS))\n",
    "    \"\"\"\n",
    "    #Commented because generates an intermediate state, here I want to solve the problem from scratch\n",
    "    for i in range(0, NUM_SETS):\n",
    "        if bool(getrandbits(1)):\n",
    "            taken = taken ^ {i}\n",
    "            not_taken = not_taken ^ {i}\n",
    "    \"\"\"\n",
    "    return State(taken, not_taken)\n",
    "\n",
    "def basic_hillclimbing(SETS):\n",
    "    i = 0\n",
    "    # Generate an intermediate state to start from\n",
    "    current_solution = generate_state()\n",
    "    print(f\"STARTING HILL CLIMBING: {current_solution} | quality={quality(current_solution)}\")         \n",
    "    while i < EVALUATIONS and not goal_check(SETS, current_solution): #SHOULD BE until S is the ideal solution or we have run out of time\n",
    "        R = tweak(copy(current_solution))\n",
    "        if quality(R) > quality(current_solution):\n",
    "            #print(f\"{i}) Quality(old)={quality(current_solution)} WHERE Quality(new)={quality(R)} , {R}\")\n",
    "            current_solution = R\n",
    "        i = i+1\n",
    "    print(f\"\\n[STEPS={i}] Current solution: {current_solution} | quality={quality(current_solution)} | solution_size={len(current_solution.taken)}\")\n",
    "    return current_solution"
   ]
  },
  {
   "cell_type": "code",
   "execution_count": 59,
   "metadata": {},
   "outputs": [
    {
     "name": "stdout",
     "output_type": "stream",
     "text": [
      "STARTING HILL CLIMBING: State(taken=set(), not_taken={0, 1, 2, 3, 4, 5, 6, 7, 8, 9, 10, 11, 12, 13, 14, 15, 16, 17, 18, 19, 20, 21, 22, 23, 24, 25, 26, 27, 28, 29, 30, 31, 32, 33, 34, 35, 36, 37, 38, 39, 40, 41, 42, 43, 44, 45, 46, 47, 48, 49, 50, 51, 52, 53, 54, 55, 56, 57, 58, 59, 60, 61, 62, 63, 64, 65, 66, 67, 68, 69, 70, 71, 72, 73, 74, 75, 76, 77, 78, 79, 80, 81, 82, 83, 84, 85, 86, 87, 88, 89, 90, 91, 92, 93, 94, 95, 96, 97, 98, 99}) | quality=0\n",
      "\n",
      "[STEPS=5] Current solution: State(taken={35, 99, 46, 15, 28}, not_taken={0, 1, 2, 3, 4, 5, 6, 7, 8, 9, 10, 11, 12, 13, 14, 16, 17, 18, 19, 20, 21, 22, 23, 24, 25, 26, 27, 29, 30, 31, 32, 33, 34, 36, 37, 38, 39, 40, 41, 42, 43, 44, 45, 47, 48, 49, 50, 51, 52, 53, 54, 55, 56, 57, 58, 59, 60, 61, 62, 63, 64, 65, 66, 67, 68, 69, 70, 71, 72, 73, 74, 75, 76, 77, 78, 79, 80, 81, 82, 83, 84, 85, 86, 87, 88, 89, 90, 91, 92, 93, 94, 95, 96, 97, 98}) | quality=100 | solution_size=5\n"
     ]
    },
    {
     "data": {
      "text/plain": [
       "State(taken={35, 99, 46, 15, 28}, not_taken={0, 1, 2, 3, 4, 5, 6, 7, 8, 9, 10, 11, 12, 13, 14, 16, 17, 18, 19, 20, 21, 22, 23, 24, 25, 26, 27, 29, 30, 31, 32, 33, 34, 36, 37, 38, 39, 40, 41, 42, 43, 44, 45, 47, 48, 49, 50, 51, 52, 53, 54, 55, 56, 57, 58, 59, 60, 61, 62, 63, 64, 65, 66, 67, 68, 69, 70, 71, 72, 73, 74, 75, 76, 77, 78, 79, 80, 81, 82, 83, 84, 85, 86, 87, 88, 89, 90, 91, 92, 93, 94, 95, 96, 97, 98})"
      ]
     },
     "execution_count": 59,
     "metadata": {},
     "output_type": "execute_result"
    }
   ],
   "source": [
    "basic_hillclimbing(sets)"
   ]
  },
  {
   "cell_type": "code",
   "execution_count": 60,
   "metadata": {},
   "outputs": [],
   "source": [
    "def second_hillclimbing(SETS):\n",
    "    i = 0\n",
    "    n = NUM_POINTS\n",
    "    # Generate an intermediate state to start from\n",
    "    current_solution = generate_state()\n",
    "    print(f\"STARTING HILL CLIMBING: {current_solution} | quality={quality(current_solution)}\")         \n",
    "    while i < EVALUATIONS and not goal_check(SETS, current_solution): #SHOULD BE until S is the ideal solution or we have run out of time\n",
    "        R = tweak(copy(current_solution))\n",
    "        for j in range(n-1):\n",
    "            W = tweak(copy(current_solution))\n",
    "            if quality(W) > quality(R):\n",
    "                R = W\n",
    "        if quality(R) > quality(current_solution):\n",
    "            current_solution = R\n",
    "            #print(f\"{i}) Quality(old)={quality(current_solution)} WHERE Quality(new)={quality(R)} , {R}\")\n",
    "        i = i+1\n",
    "    print(f\"\\n[STEPS={i}] Current solution: {current_solution} | quality={quality(current_solution)} | solution_size={len(current_solution.taken)}\")\n",
    "    return current_solution"
   ]
  },
  {
   "cell_type": "code",
   "execution_count": 61,
   "metadata": {},
   "outputs": [
    {
     "name": "stdout",
     "output_type": "stream",
     "text": [
      "STARTING HILL CLIMBING: State(taken=set(), not_taken={0, 1, 2, 3, 4, 5, 6, 7, 8, 9, 10, 11, 12, 13, 14, 15, 16, 17, 18, 19, 20, 21, 22, 23, 24, 25, 26, 27, 28, 29, 30, 31, 32, 33, 34, 35, 36, 37, 38, 39, 40, 41, 42, 43, 44, 45, 46, 47, 48, 49, 50, 51, 52, 53, 54, 55, 56, 57, 58, 59, 60, 61, 62, 63, 64, 65, 66, 67, 68, 69, 70, 71, 72, 73, 74, 75, 76, 77, 78, 79, 80, 81, 82, 83, 84, 85, 86, 87, 88, 89, 90, 91, 92, 93, 94, 95, 96, 97, 98, 99}) | quality=0\n",
      "\n",
      "[STEPS=3] Current solution: State(taken={65, 42, 76}, not_taken={0, 1, 2, 3, 4, 5, 6, 7, 8, 9, 10, 11, 12, 13, 14, 15, 16, 17, 18, 19, 20, 21, 22, 23, 24, 25, 26, 27, 28, 29, 30, 31, 32, 33, 34, 35, 36, 37, 38, 39, 40, 41, 43, 44, 45, 46, 47, 48, 49, 50, 51, 52, 53, 54, 55, 56, 57, 58, 59, 60, 61, 62, 63, 64, 66, 67, 68, 69, 70, 71, 72, 73, 74, 75, 77, 78, 79, 80, 81, 82, 83, 84, 85, 86, 87, 88, 89, 90, 91, 92, 93, 94, 95, 96, 97, 98, 99}) | quality=100 | solution_size=3\n"
     ]
    },
    {
     "data": {
      "text/plain": [
       "State(taken={65, 42, 76}, not_taken={0, 1, 2, 3, 4, 5, 6, 7, 8, 9, 10, 11, 12, 13, 14, 15, 16, 17, 18, 19, 20, 21, 22, 23, 24, 25, 26, 27, 28, 29, 30, 31, 32, 33, 34, 35, 36, 37, 38, 39, 40, 41, 43, 44, 45, 46, 47, 48, 49, 50, 51, 52, 53, 54, 55, 56, 57, 58, 59, 60, 61, 62, 63, 64, 66, 67, 68, 69, 70, 71, 72, 73, 74, 75, 77, 78, 79, 80, 81, 82, 83, 84, 85, 86, 87, 88, 89, 90, 91, 92, 93, 94, 95, 96, 97, 98, 99})"
      ]
     },
     "execution_count": 61,
     "metadata": {},
     "output_type": "execute_result"
    }
   ],
   "source": [
    "second_hillclimbing(sets)"
   ]
  },
  {
   "cell_type": "code",
   "execution_count": 65,
   "metadata": {},
   "outputs": [
    {
     "name": "stdout",
     "output_type": "stream",
     "text": [
      "step=6 best_cost=(1000, -6)\n",
      "goal_check=True\n",
      "Iterations done: 999, step=49613 best_cost=(1000, -6)\n",
      "goal_check=True\n"
     ]
    }
   ],
   "source": [
    "SIZE = 1000\n",
    "PROBLEM_SIZE = 1000\n",
    "NUM_SETS = 1000\n",
    "density = .7\n",
    "sets = make_set_covering_problem(PROBLEM_SIZE, NUM_SETS, density)\n",
    "current_state = [False for _ in range(NUM_SETS)]\n",
    "step = 0\n",
    "\n",
    "def fitness1(state,x):\n",
    "    cost = sum(state)\n",
    "    valid = np.all(\n",
    "        reduce(\n",
    "            np.logical_or,\n",
    "            [x.getrow(i).toarray() for i, t in enumerate(state) if t],\n",
    "            np.array([False for _ in range(PROBLEM_SIZE)]),\n",
    "        )\n",
    "    )\n",
    "    return valid, -cost\n",
    "\n",
    "def fitness2(state,x):\n",
    "    cost = sum(state)\n",
    "    valid = np.sum(\n",
    "        reduce(\n",
    "            np.logical_or,\n",
    "            [x.getrow(i).toarray() for i, t in enumerate(state) if t],\n",
    "            np.array([False for _ in range(PROBLEM_SIZE)]),\n",
    "        )\n",
    "    )\n",
    "    return valid, -cost\n",
    "    \n",
    "fitness = fitness2\n",
    "\n",
    "def tweak(state):\n",
    "    new_state = copy(state)\n",
    "    index = randint(0, PROBLEM_SIZE - 1)\n",
    "    new_state[index] = not new_state[index]\n",
    "    return new_state\n",
    "\n",
    "def goal_check(state, s_sets):\n",
    "    return np.all(\n",
    "        reduce(\n",
    "            np.logical_or,\n",
    "            [s_sets.getrow(i).toarray() for i, t in enumerate(state) if t],\n",
    "            np.array([False for _ in range(PROBLEM_SIZE)]),\n",
    "        )\n",
    "    )\n",
    "\n",
    "#Traditional Hill climbing\n",
    "for s in range(1_000):\n",
    "    new_state = tweak(current_state)\n",
    "    if fitness2(new_state, sets) >= fitness2(current_state, sets):\n",
    "        current_state = new_state\n",
    "        step += 1\n",
    "        #print(f\"Current state is: {current_state} and fitness={fitness(current_state)}\")\n",
    "\n",
    "print(f\"step={step} best_cost={fitness(current_state, sets)}\")\n",
    "print(f\"goal_check={goal_check(best_solution, sets)}\")\n",
    "\n",
    "#Tabu search algorithm\n",
    "tabu_list = []\n",
    "num_iterations = 1000\n",
    "best_solution = current_state\n",
    "best_solution_fitness = fitness(best_solution, sets)\n",
    "step = 0\n",
    "\n",
    "for i in range(num_iterations):\n",
    "    #Candidate List of Moves\n",
    "    candidates = [tweak(current_state) for _ in range(100)]\n",
    "    #Select the best admissible candidate\n",
    "    tmp_best = candidates[0]\n",
    "    for ng in candidates:\n",
    "        if ng not in tabu_list and fitness(ng, sets) >= fitness(tmp_best, sets):\n",
    "            tmp_best = ng\n",
    "            step += 1\n",
    "\n",
    "    #Update Admissibility conditions\n",
    "    tabu_list.append(tmp_best)\n",
    "    #Update best solution ever\n",
    "    if fitness(tmp_best, sets) > best_solution_fitness:\n",
    "        best_solution = tmp_best\n",
    "        best_solution_fitness = fitness(tmp_best, sets)\n",
    "    \n",
    "    while len(tabu_list) > SIZE:\n",
    "        tabu_list.pop(0)\n",
    "\n",
    "print(f\"Iterations done: {i}, step={step} best_cost={fitness(best_solution, sets)}\")\n",
    "print(f\"goal_check={goal_check(best_solution, sets)}\")\n",
    "    "
   ]
  },
  {
   "cell_type": "markdown",
   "metadata": {},
   "source": [
    "| num_points | density | best fitness | step  |\n",
    "|------------|---------|--------------|-------|\n",
    "| 100        | .3      | (100, -8)    | 6217  |\n",
    "| 100        | .7      | (100, -3)    | 7080  |\n",
    "| 1000       | .3      | (1000, -15)  | 48785 |\n",
    "| 1000       | .7      | (1000, -6)   | 49613 |"
   ]
  },
  {
   "cell_type": "code",
   "execution_count": null,
   "metadata": {},
   "outputs": [],
   "source": []
  }
 ],
 "metadata": {
  "kernelspec": {
   "display_name": "Python 3 (ipykernel)",
   "language": "python",
   "name": "python3"
  },
  "language_info": {
   "codemirror_mode": {
    "name": "ipython",
    "version": 3
   },
   "file_extension": ".py",
   "mimetype": "text/x-python",
   "name": "python",
   "nbconvert_exporter": "python",
   "pygments_lexer": "ipython3",
   "version": "3.12.0"
  }
 },
 "nbformat": 4,
 "nbformat_minor": 4
}
